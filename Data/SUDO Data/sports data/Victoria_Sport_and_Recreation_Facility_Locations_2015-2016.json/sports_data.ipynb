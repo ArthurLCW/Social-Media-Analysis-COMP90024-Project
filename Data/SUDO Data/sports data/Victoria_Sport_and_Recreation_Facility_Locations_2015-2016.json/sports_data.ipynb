{
 "cells": [
  {
   "cell_type": "markdown",
   "source": [
    "# Find the distribution of each sport played\n"
   ],
   "metadata": {
    "collapsed": false
   }
  },
  {
   "cell_type": "code",
   "execution_count": 1,
   "outputs": [
    {
     "name": "stdout",
     "output_type": "stream",
     "text": [
      "Unique objectid count for each sportsplayed (sorted in descending order):\n",
      "Cricket: 1566\n",
      "Tennis (Outdoor): 1208\n",
      "Australian Rules Football: 1000\n",
      "Fitness / Gymnasium Workouts: 676\n",
      "Netball: 546\n",
      "Lawn Bowls: 528\n",
      "Soccer: 411\n",
      "Golf: 372\n",
      "Swimming: 335\n",
      "Basketball: 253\n",
      "Equestrian: 212\n"
     ]
    }
   ],
   "source": [
    "import json\n",
    "\n",
    "with open(\"vic_sport_and_recreation_2015-1231352463903835354.json\", \"r\") as file:\n",
    "    data = json.load(file)\n",
    "\n",
    "# Count unique objectids for each sportsplayed value\n",
    "sportsplayed_objectids = {}\n",
    "\n",
    "for feature in data[\"features\"]:\n",
    "    properties = feature[\"properties\"]\n",
    "    sportsplayed = properties[\"sportsplayed\"]\n",
    "    objectid = properties[\"objectid\"]\n",
    "\n",
    "    if sportsplayed is not None:\n",
    "        if sportsplayed not in sportsplayed_objectids:\n",
    "            sportsplayed_objectids[sportsplayed] = set()\n",
    "        sportsplayed_objectids[sportsplayed].add(objectid)\n",
    "\n",
    "# Sort sportsplayed values by the count of unique objectids in descending order\n",
    "sorted_sportsplayed_objectids = sorted(sportsplayed_objectids.items(), key=lambda x: len(x[1]), reverse=True)\n",
    "\n",
    "# Print the count of unique objectids for each sportsplayed\n",
    "print(\"Unique objectid count for each sportsplayed (sorted in descending order):\")\n",
    "cnt = 0\n",
    "for sport, objectids in sorted_sportsplayed_objectids:\n",
    "    if cnt > 10 : break\n",
    "    print(f\"{sport}: {len(objectids)}\")\n",
    "    cnt += 1"
   ],
   "metadata": {
    "collapsed": false
   }
  },
  {
   "cell_type": "markdown",
   "source": [
    "# Find the numer of sports played in each suburb"
   ],
   "metadata": {
    "collapsed": false
   }
  },
  {
   "cell_type": "code",
   "execution_count": 3,
   "outputs": [
    {
     "name": "stdout",
     "output_type": "stream",
     "text": [
      "Total sportsplayed count for each suburbtown (sorted in descending order):\n",
      "WARRNAMBOOL: 82\n",
      "HORSHAM: 61\n",
      "SHEPPARTON: 60\n",
      "FRANKSTON: 58\n",
      "BALLARAT: 57\n",
      "BENDIGO: 55\n",
      "MELTON: 53\n",
      "WANGARATTA: 53\n",
      "WERRIBEE: 51\n",
      "SALE: 51\n",
      "RICHMOND: 49\n",
      "WARRAGUL: 45\n",
      "CROYDON: 43\n",
      "SUNBURY: 43\n",
      "PORTLAND: 42\n",
      "BUNDOORA: 41\n",
      "TORQUAY: 41\n",
      "WODONGA: 40\n",
      "TRARALGON: 40\n",
      "OAKLEIGH: 39\n",
      "MORNINGTON: 38\n"
     ]
    }
   ],
   "source": [
    "with open(\"vic_sport_and_recreation_2015-1231352463903835354.json\", \"r\") as file:\n",
    "    data = json.load(file)\n",
    "\n",
    "# Count sportsplayed for each suburbtown\n",
    "suburbtown_sportsplayed = {}\n",
    "\n",
    "for feature in data[\"features\"]:\n",
    "    properties = feature[\"properties\"]\n",
    "    sportsplayed = properties[\"sportsplayed\"]\n",
    "    suburbtown = properties[\"suburbtown\"]\n",
    "\n",
    "    if suburbtown is not None:\n",
    "        if suburbtown not in suburbtown_sportsplayed:\n",
    "            suburbtown_sportsplayed[suburbtown] = {}\n",
    "\n",
    "        if sportsplayed is not None:\n",
    "            if sportsplayed not in suburbtown_sportsplayed[suburbtown]:\n",
    "                suburbtown_sportsplayed[suburbtown][sportsplayed] = 0\n",
    "\n",
    "            suburbtown_sportsplayed[suburbtown][sportsplayed] += 1\n",
    "\n",
    "# Calculate total sportsplayed count for each suburbtown\n",
    "suburbtown_total_sportsplayed = {suburb: sum(sportsplayed_count.values()) for suburb, sportsplayed_count in suburbtown_sportsplayed.items()}\n",
    "\n",
    "# Sort suburbtowns by total sportsplayed count in descending order\n",
    "sorted_suburbtown_total_sportsplayed = sorted(suburbtown_total_sportsplayed.items(), key=lambda x: x[1], reverse=True)\n",
    "\n",
    "# Print the total sportsplayed count for each suburbtown\n",
    "print(\"Total sportsplayed count for each suburbtown (sorted in descending order):\")\n",
    "cnt = 0\n",
    "for suburb, total_count in sorted_suburbtown_total_sportsplayed:\n",
    "    if cnt > 20 : break\n",
    "    print(f\"{suburb}: {total_count}\")\n",
    "    cnt += 1"
   ],
   "metadata": {
    "collapsed": false
   }
  },
  {
   "cell_type": "markdown",
   "source": [
    "# Extract the data needed for the step"
   ],
   "metadata": {
    "collapsed": false
   }
  },
  {
   "cell_type": "code",
   "execution_count": 32,
   "outputs": [],
   "source": [
    "with open(\"vic_sport_and_recreation_2015-1231352463903835354.json\", \"r\") as file:\n",
    "    data = json.load(file)\n",
    "\n",
    "# Simplify features\n",
    "simplified_features = []\n",
    "\n",
    "for feature in data[\"features\"]:\n",
    "    properties = feature[\"properties\"]\n",
    "    objectid = properties[\"objectid\"]\n",
    "    sportsplayed = properties[\"sportsplayed\"]\n",
    "    suburbtown = properties[\"suburbtown\"]\n",
    "\n",
    "    if sportsplayed is not None and suburbtown is not None:\n",
    "        simplified_feature = {\n",
    "            \"objectid\": objectid,\n",
    "            \"sportsplayed\": sportsplayed,\n",
    "            \"suburbtown\": suburbtown\n",
    "        }\n",
    "\n",
    "        simplified_features.append(simplified_feature)\n",
    "\n",
    "# Save simplified features as a new JSON file\n",
    "with open(\"simplified_vic_sport_and_recreation_2015.json\", \"w\") as file:\n",
    "    json.dump(simplified_features, file, indent=2)"
   ],
   "metadata": {
    "collapsed": false
   }
  },
  {
   "cell_type": "markdown",
   "source": [
    "# Check the consistency with the previous data\n",
    "\n"
   ],
   "metadata": {
    "collapsed": false
   }
  },
  {
   "cell_type": "code",
   "execution_count": 4,
   "outputs": [
    {
     "name": "stdout",
     "output_type": "stream",
     "text": [
      "WARRNAMBOOL: 82\n",
      "HORSHAM: 61\n",
      "SHEPPARTON: 60\n",
      "FRANKSTON: 58\n",
      "BALLARAT: 57\n",
      "BENDIGO: 55\n",
      "MELTON: 53\n",
      "WANGARATTA: 53\n",
      "WERRIBEE: 51\n",
      "SALE: 51\n",
      "RICHMOND: 49\n"
     ]
    }
   ],
   "source": [
    "from collections import defaultdict\n",
    "\n",
    "# Load simplified JSON data\n",
    "with open(\"simplified_vic_sport_and_recreation_2015.json\", \"r\") as file:\n",
    "    simplified_data = json.load(file)\n",
    "\n",
    "# Count sportsplayed for each suburbtown\n",
    "suburbtown_sportsplayed_count = defaultdict(int)\n",
    "\n",
    "for item in simplified_data:\n",
    "    suburbtown = item[\"suburbtown\"]\n",
    "    suburbtown_sportsplayed_count[suburbtown] += 1\n",
    "\n",
    "# Sort suburbtowns by sportsplayed count in descending order\n",
    "sorted_suburbtown_sportsplayed_count = sorted(suburbtown_sportsplayed_count.items(), key=lambda x: x[1], reverse=True)\n",
    "\n",
    "# Print sportsplayed count for each suburbtown in descending order\n",
    "cnt = 0\n",
    "for suburbtown, count in sorted_suburbtown_sportsplayed_count:\n",
    "    if cnt > 10 : break\n",
    "    print(f\"{suburbtown}: {count}\")\n",
    "    cnt += 1"
   ],
   "metadata": {
    "collapsed": false
   }
  }
 ],
 "metadata": {
  "kernelspec": {
   "display_name": "Python 3",
   "language": "python",
   "name": "python3"
  },
  "language_info": {
   "codemirror_mode": {
    "name": "ipython",
    "version": 2
   },
   "file_extension": ".py",
   "mimetype": "text/x-python",
   "name": "python",
   "nbconvert_exporter": "python",
   "pygments_lexer": "ipython2",
   "version": "2.7.6"
  }
 },
 "nbformat": 4,
 "nbformat_minor": 0
}
