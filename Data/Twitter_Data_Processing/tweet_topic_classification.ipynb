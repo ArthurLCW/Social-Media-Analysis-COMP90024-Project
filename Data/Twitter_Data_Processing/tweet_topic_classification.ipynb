{
 "cells": [
  {
   "cell_type": "code",
   "execution_count": 1,
   "metadata": {},
   "outputs": [],
   "source": [
    "from transformers import AutoModelForSequenceClassification\n",
    "from transformers import AutoTokenizer\n",
    "import numpy as np\n",
    "from scipy.special import expit\n",
    "import json\n",
    "from tqdm import tqdm\n",
    "import torch"
   ]
  },
  {
   "attachments": {},
   "cell_type": "markdown",
   "metadata": {},
   "source": [
    "## Load the model"
   ]
  },
  {
   "cell_type": "code",
   "execution_count": 2,
   "metadata": {},
   "outputs": [
    {
     "data": {
      "text/plain": [
       "device(type='cuda')"
      ]
     },
     "execution_count": 2,
     "metadata": {},
     "output_type": "execute_result"
    }
   ],
   "source": [
    "device = torch.device(\"cuda\" if torch.cuda.is_available() else \"cpu\")\n",
    "device"
   ]
  },
  {
   "cell_type": "code",
   "execution_count": 3,
   "metadata": {},
   "outputs": [],
   "source": [
    "model_path = f\"cardiffnlp/tweet-topic-21-multi\"\n",
    "tokenizer = AutoTokenizer.from_pretrained(model_path)\n",
    "\n",
    "model = AutoModelForSequenceClassification.from_pretrained(model_path).to(device)\n",
    "class_mapping = model.config.id2label"
   ]
  },
  {
   "cell_type": "code",
   "execution_count": 4,
   "metadata": {},
   "outputs": [],
   "source": [
    "f = open('../../autodl-fs/twitter_huge.json','rb')\n",
    "twitter_huge = json.load(f)\n",
    "f.close()"
   ]
  },
  {
   "cell_type": "code",
   "execution_count": 5,
   "metadata": {},
   "outputs": [
    {
     "name": "stdout",
     "output_type": "stream",
     "text": [
      "734185\n"
     ]
    }
   ],
   "source": [
    "print(twitter_huge[\"total_rows\"])"
   ]
  },
  {
   "cell_type": "code",
   "execution_count": 6,
   "metadata": {},
   "outputs": [
    {
     "data": {
      "text/plain": [
       "{'id': '00466228e947996e9feef13ca1000903',\n",
       " 'key': '00466228e947996e9feef13ca1000903',\n",
       " 'value': {'rev': '1-2c989e80f6f20b0fb9c788f18955a5ab'},\n",
       " 'doc': {'_id': '00466228e947996e9feef13ca1000903',\n",
       "  '_rev': '1-2c989e80f6f20b0fb9c788f18955a5ab',\n",
       "  'Author_Id': '35705319',\n",
       "  'Sentiment_Score': 0.0,\n",
       "  'Text': \"@fayemikah Oestradiol! You're not a Yank!\",\n",
       "  'Language': 'en',\n",
       "  'Coordinate': [145.053135344, -37.972566514250005],\n",
       "  'Suburb': 'Cheltenham'}}"
      ]
     },
     "execution_count": 6,
     "metadata": {},
     "output_type": "execute_result"
    }
   ],
   "source": [
    "twitter_huge[\"rows\"][0]"
   ]
  },
  {
   "attachments": {},
   "cell_type": "markdown",
   "metadata": {},
   "source": [
    "## Predict the topic of each tweet"
   ]
  },
  {
   "cell_type": "code",
   "execution_count": 13,
   "metadata": {},
   "outputs": [
    {
     "name": "stderr",
     "output_type": "stream",
     "text": [
      "100%|██████████| 734185/734185 [1:55:31<00:00, 105.91it/s] \n"
     ]
    }
   ],
   "source": [
    "processed_tweets = []\n",
    "for twitter_data in tqdm(twitter_huge[\"rows\"]):\n",
    "    try:\n",
    "        authod_id = twitter_data[\"doc\"][\"Author_Id\"]\n",
    "        tweet_text = twitter_data[\"doc\"][\"Text\"]\n",
    "        sentiment_score = twitter_data[\"doc\"][\"Sentiment_Score\"]\n",
    "        suburb = twitter_data[\"doc\"][\"Suburb\"]\n",
    "        lang = twitter_data[\"doc\"][\"Language\"]\n",
    "    except:\n",
    "        continue\n",
    "    authod_id = twitter_data[\"doc\"][\"Author_Id\"]\n",
    "    tweet_text = twitter_data[\"doc\"][\"Text\"]\n",
    "    sentiment_score = twitter_data[\"doc\"][\"Sentiment_Score\"]\n",
    "    suburb = twitter_data[\"doc\"][\"Suburb\"]\n",
    "    lang = twitter_data[\"doc\"][\"Language\"]\n",
    "    topics = []\n",
    "\n",
    "    tokens = tokenizer(tweet_text, return_tensors='pt', max_length=512).to(device)\n",
    "    output = model(**tokens)\n",
    "    output = {key: value.to(\"cpu\") for key, value in output.items()}\n",
    "    scores = output[\"logits\"][0].detach().numpy()\n",
    "    scores = expit(scores)\n",
    "    predictions = (scores >= 0.5) * 1\n",
    "\n",
    "    for i in range(len(predictions)):\n",
    "        if predictions[i]:\n",
    "            topics.append(class_mapping[i])\n",
    "    \n",
    "    if len(topics) == 0:\n",
    "        continue\n",
    "\n",
    "    tweet_info = {\n",
    "        \"Author_ID\" : authod_id,\n",
    "        \"Text\" : tweet_text,\n",
    "        \"Sentiment_Score\" : sentiment_score,\n",
    "        \"Topics\" : topics,\n",
    "        \"Suburb\" : suburb,\n",
    "        \"Language\" : lang,\n",
    "    }\n",
    "\n",
    "    processed_tweets.append(tweet_info)\n"
   ]
  },
  {
   "cell_type": "code",
   "execution_count": 14,
   "metadata": {},
   "outputs": [
    {
     "data": {
      "text/plain": [
       "[{'Author_ID': '35705319',\n",
       "  'Text': \"@fayemikah Oestradiol! You're not a Yank!\",\n",
       "  'Sentiment_Score': 0.0,\n",
       "  'Topics': ['news_&_social_concern'],\n",
       "  'Suburb': 'Cheltenham',\n",
       "  'Language': 'en'},\n",
       " {'Author_ID': '1317491197',\n",
       "  'Text': 'When in Docklands 🤟🏻 https://t.co/9KlSxQcVgi',\n",
       "  'Sentiment_Score': 0.0,\n",
       "  'Topics': ['travel_&_adventure'],\n",
       "  'Suburb': 'Docklands',\n",
       "  'Language': 'en'},\n",
       " {'Author_ID': '18147028',\n",
       "  'Text': 'Atheldene Drive , St Albans - Road Closed, A single car has collided with a power pole.  Police have… https://t.co/YnDkEnX91D #victraffic',\n",
       "  'Sentiment_Score': 0.0,\n",
       "  'Topics': ['news_&_social_concern'],\n",
       "  'Suburb': 'Cheltenham',\n",
       "  'Language': 'en'},\n",
       " {'Author_ID': '35705319',\n",
       "  'Text': \"@Goose_xt @fayemikah MFer thinks she's Keffals…\",\n",
       "  'Sentiment_Score': 0.0,\n",
       "  'Topics': ['celebrity_&_pop_culture'],\n",
       "  'Suburb': 'Cheltenham',\n",
       "  'Language': 'en'},\n",
       " {'Author_ID': '15510386',\n",
       "  'Text': \"@MoarToast That's a great pic btw. 😍\",\n",
       "  'Sentiment_Score': 0.8571428571428571,\n",
       "  'Topics': ['diaries_&_daily_life', 'food_&_dining'],\n",
       "  'Suburb': 'Cheltenham',\n",
       "  'Language': 'en'},\n",
       " {'Author_ID': '35705319',\n",
       "  'Text': \"@Goose_xt @fayemikah I think alooooominum &amp; Mick Donald's sound stupid.  🤷\\u200d♀️\",\n",
       "  'Sentiment_Score': -0.16666666666666666,\n",
       "  'Topics': ['celebrity_&_pop_culture'],\n",
       "  'Suburb': 'Cheltenham',\n",
       "  'Language': 'en'},\n",
       " {'Author_ID': '2582558798',\n",
       "  'Text': '@SWRepMe Yeah hanging out with racists is on par with pointing out that someone is hanging with racists.\\\\n\\\\nEnd of story. Bye.',\n",
       "  'Sentiment_Score': -0.22727272727272727,\n",
       "  'Topics': ['news_&_social_concern'],\n",
       "  'Suburb': 'Cheltenham',\n",
       "  'Language': 'en'},\n",
       " {'Author_ID': '1427385253081976862',\n",
       "  'Text': \"@DanielaNadj Take care Brits your houses aren't meant for this - hang out in the AC in the shops/movies if you can - much love 🥰\",\n",
       "  'Sentiment_Score': 0.18518518518518517,\n",
       "  'Topics': ['diaries_&_daily_life', 'news_&_social_concern'],\n",
       "  'Suburb': 'Cheltenham',\n",
       "  'Language': 'en'},\n",
       " {'Author_ID': '483729052',\n",
       "  'Text': '@SamDavi99667843 could be proven guilty by media \\\\nJust an eg of irresponsible behaviour by a media personality.\\\\nOf an alleged rape by a drunk individual was she an alcoholic that had a blackout ?maybe not\\\\nShe would remember parts of what happened...she blindly enters a build why?\\\\n#LisaWilkinson https://t.co/Ghspdfb5g8',\n",
       "  'Sentiment_Score': -0.20754716981132076,\n",
       "  'Topics': ['news_&_social_concern'],\n",
       "  'Suburb': 'Benalla',\n",
       "  'Language': 'en'},\n",
       " {'Author_ID': '105837516',\n",
       "  'Text': 'When a 2 mark question is asked as a 10 mark question. #nostalgia https://t.co/NxQitsW95x',\n",
       "  'Sentiment_Score': 0.0,\n",
       "  'Topics': ['diaries_&_daily_life'],\n",
       "  'Suburb': 'Cheltenham',\n",
       "  'Language': 'en'}]"
      ]
     },
     "execution_count": 14,
     "metadata": {},
     "output_type": "execute_result"
    }
   ],
   "source": [
    "processed_tweets[:10]"
   ]
  },
  {
   "attachments": {},
   "cell_type": "markdown",
   "metadata": {},
   "source": [
    "## Save the processed twitter data into json file"
   ]
  },
  {
   "cell_type": "code",
   "execution_count": 15,
   "metadata": {},
   "outputs": [],
   "source": [
    "with open(\"processed_twitter2.json\", \"w\") as final:\n",
    "    json.dump(processed_tweets, final)"
   ]
  },
  {
   "cell_type": "code",
   "execution_count": 16,
   "metadata": {},
   "outputs": [],
   "source": [
    "f = open('processed_twitter2.json','rb')\n",
    "mydata = json.load(f)\n",
    "f.close()"
   ]
  },
  {
   "cell_type": "code",
   "execution_count": 19,
   "metadata": {},
   "outputs": [
    {
     "data": {
      "text/plain": [
       "{'Author_ID': '2298704174',\n",
       " 'Text': '@smudge_green @dezmac_au @AlboMP Come @ me smudge, you have a big mouth but no doubt very little brain 🥥🥥🥥🥥',\n",
       " 'Sentiment_Score': -0.047619047619047616,\n",
       " 'Topics': ['news_&_social_concern'],\n",
       " 'Suburb': 'Cheltenham',\n",
       " 'Language': 'en'}"
      ]
     },
     "execution_count": 19,
     "metadata": {},
     "output_type": "execute_result"
    }
   ],
   "source": [
    "mydata[165161]"
   ]
  },
  {
   "cell_type": "code",
   "execution_count": null,
   "metadata": {},
   "outputs": [],
   "source": []
  }
 ],
 "metadata": {
  "kernelspec": {
   "display_name": "base",
   "language": "python",
   "name": "python3"
  },
  "language_info": {
   "codemirror_mode": {
    "name": "ipython",
    "version": 3
   },
   "file_extension": ".py",
   "mimetype": "text/x-python",
   "name": "python",
   "nbconvert_exporter": "python",
   "pygments_lexer": "ipython3",
   "version": "3.8.10"
  },
  "orig_nbformat": 4
 },
 "nbformat": 4,
 "nbformat_minor": 2
}